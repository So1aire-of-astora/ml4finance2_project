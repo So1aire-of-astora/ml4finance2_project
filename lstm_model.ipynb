{
 "cells": [
  {
   "cell_type": "code",
   "id": "initial_id",
   "metadata": {
    "collapsed": true,
    "ExecuteTime": {
     "end_time": "2024-12-03T21:29:34.727370Z",
     "start_time": "2024-12-03T21:29:34.724139Z"
    }
   },
   "source": [
    "from dataclasses import dataclass\n",
    "import pandas as pd\n",
    "import numpy as np\n",
    "import torch\n",
    "import torch.nn as nn\n",
    "from torch.optim import Adam\n",
    "from torch.utils.data import Dataset, DataLoader, random_split\n",
    "from sklearn.preprocessing import LabelEncoder"
   ],
   "outputs": [],
   "execution_count": 6
  },
  {
   "metadata": {
    "ExecuteTime": {
     "end_time": "2024-12-03T21:29:37.061448Z",
     "start_time": "2024-12-03T21:29:36.815585Z"
    }
   },
   "cell_type": "code",
   "source": [
    "class NewsDataset(Dataset):\n",
    "    def __init__(self, feature_path, label_path, label_col):\n",
    "\n",
    "        self.features = np.load(feature_path)\n",
    "        self.labels = pd.read_csv(label_path)[label_col]\n",
    "        self.label_encoder = LabelEncoder()\n",
    "        self.encoded_labels = self.label_encoder.fit_transform(self.labels)\n",
    "\n",
    "    def __len__(self):\n",
    "        return len(self.features)\n",
    "\n",
    "    def __getitem__(self, idx):\n",
    "        feature = torch.tensor(self.features[idx], dtype=torch.float32)\n",
    "        label = torch.tensor(self.encoded_labels[idx], dtype=torch.long)\n",
    "        return feature, label\n",
    "\n",
    "def get_loader(train_feature_path, train_label_path, test_feature_path, test_label_path, batch_size, valid_size, col='Stance'):\n",
    "    train_valid_data = NewsDataset(train_feature_path, train_label_path, col)\n",
    "    test_data = NewsDataset(test_feature_path, test_label_path, col)\n",
    "    train_data, valid_data = random_split(train_valid_data, [1 - valid_size, valid_size])\n",
    "    return DataLoader(train_data, batch_size = batch_size, shuffle = True), DataLoader(valid_data, batch_size = batch_size, shuffle = True), DataLoader(test_data, batch_size=batch_size, shuffle = False)\n",
    "\n",
    "train_loader, valid_loader, test_loader = get_loader('./features/feature_train.npy', './features/label_train.csv', './features/feature_test.npy', './features/label_test.csv', batch_size=32, valid_size=0.2)\n",
    "\n",
    "print('All data preprocessed')"
   ],
   "id": "9660cfe412515e6",
   "outputs": [
    {
     "name": "stdout",
     "output_type": "stream",
     "text": [
      "All data preprocessed\n"
     ]
    }
   ],
   "execution_count": 7
  },
  {
   "metadata": {
    "jupyter": {
     "is_executing": true
    },
    "ExecuteTime": {
     "start_time": "2024-12-03T21:49:13.065185Z"
    }
   },
   "cell_type": "code",
   "source": [
    "device = torch.device('cuda' if torch.cuda.is_available() else 'cpu')\n",
    "\n",
    "class LSTMModel(nn.Module):\n",
    "    def __init__(self, input_size, hidden_sizes, output_size, dropout=0.1):\n",
    "        super(LSTMModel, self).__init__()\n",
    "        self.lstm1 = nn.LSTM(input_size, hidden_sizes[0], batch_first=True)\n",
    "        self.dropout1 = nn.Dropout(dropout)\n",
    "\n",
    "        self.lstm2 = nn.LSTM(hidden_sizes[0], hidden_sizes[1], batch_first=True)\n",
    "        self.dropout2 = nn.Dropout(dropout)\n",
    "\n",
    "        self.lstm3 = nn.LSTM(hidden_sizes[1], hidden_sizes[2], batch_first=True)\n",
    "        self.dropout3 = nn.Dropout(dropout)\n",
    "\n",
    "        self.fc = nn.Linear(hidden_sizes[2], output_size)\n",
    "\n",
    "    def forward(self, x):\n",
    "        x = x.unsqueeze(1)\n",
    "        x, _ = self.lstm1(x)\n",
    "        x = self.dropout1(x)\n",
    "\n",
    "        x, _ = self.lstm2(x)\n",
    "        x = self.dropout2(x)\n",
    "\n",
    "        x, _ = self.lstm3(x)\n",
    "        x = self.dropout3(x)\n",
    "        x = x.flatten(start_dim=1)\n",
    "        x = self.fc(x)\n",
    "        return x\n",
    "\n",
    "input_size = train_loader.dataset[0][0].shape[0]\n",
    "hidden_sizes = [64, 32, 16]\n",
    "output_size = 4\n",
    "\n",
    "model = LSTMModel(input_size, hidden_sizes, output_size).to(device)\n",
    "\n",
    "criterion = nn.CrossEntropyLoss()\n",
    "optimizer = torch.optim.Adam(model.parameters(), lr=0.00005, weight_decay=0.0001)\n",
    "scheduler = torch.optim.lr_scheduler.ReduceLROnPlateau(optimizer, mode='min', factor=0.5, patience=5, verbose=True)\n",
    "\n",
    "def train_model(model, train_loader, valid_loader, num_epochs=500):\n",
    "    train_losses, val_losses = [], []\n",
    "    best_val_loss = float('inf')\n",
    "    patience, patience_counter = 20, 0\n",
    "\n",
    "    for epoch in range(num_epochs):\n",
    "        model.train()\n",
    "        train_loss = 0.0\n",
    "        for X_batch, y_batch in train_loader:\n",
    "            X_batch, y_batch = X_batch.to(device), y_batch.to(device)\n",
    "            optimizer.zero_grad()\n",
    "            y_pred = model(X_batch)\n",
    "            loss = criterion(y_pred, y_batch)\n",
    "            loss.backward()\n",
    "            torch.nn.utils.clip_grad_norm_(model.parameters(), max_norm=1.0)\n",
    "            optimizer.step()\n",
    "            train_loss += loss.item()\n",
    "        \n",
    "        train_losses.append(train_loss / len(train_loader))\n",
    "        \n",
    "        model.eval()\n",
    "        val_loss = 0.0\n",
    "        with torch.no_grad():\n",
    "            for X_batch, y_batch in valid_loader:\n",
    "                X_batch, y_batch = X_batch.to(device), y_batch.to(device)\n",
    "                y_pred = model(X_batch)\n",
    "                val_loss += criterion(y_pred, y_batch).item()\n",
    "        val_loss /= len(valid_loader)\n",
    "        val_losses.append(val_loss)\n",
    "        scheduler.step(val_loss)\n",
    "        print(f\"Epoch {epoch+1}/{num_epochs}, Train Loss: {train_losses[-1]:.4f}, Val Loss: {val_loss:.4f}\")\n",
    "        \n",
    "        if val_loss < best_val_loss:\n",
    "            best_val_loss = val_loss\n",
    "            patience_counter = 0\n",
    "            torch.save(model.state_dict(), 'best_model.pth')\n",
    "        else:\n",
    "            patience_counter += 1\n",
    "            if patience_counter >= patience:\n",
    "                print(\"Early stopping triggered.\")\n",
    "                model.load_state_dict(torch.load('best_model.pth'))\n",
    "                break\n",
    "    \n",
    "    return train_losses, val_losses\n",
    "\n",
    "train_losses, val_losses = train_model(model, train_loader, valid_loader, num_epochs=500)\n",
    "\n",
    "model.eval()\n",
    "y_pred_list, y_true_list = [], []"
   ],
   "id": "a6a85b1b720eb6f4",
   "outputs": [],
   "execution_count": null
  },
  {
   "metadata": {},
   "cell_type": "code",
   "outputs": [],
   "execution_count": null,
   "source": "",
   "id": "973f3cdd86bc6e2"
  }
 ],
 "metadata": {
  "kernelspec": {
   "display_name": "Python 3",
   "language": "python",
   "name": "python3"
  },
  "language_info": {
   "codemirror_mode": {
    "name": "ipython",
    "version": 2
   },
   "file_extension": ".py",
   "mimetype": "text/x-python",
   "name": "python",
   "nbconvert_exporter": "python",
   "pygments_lexer": "ipython2",
   "version": "2.7.6"
  }
 },
 "nbformat": 4,
 "nbformat_minor": 5
}
