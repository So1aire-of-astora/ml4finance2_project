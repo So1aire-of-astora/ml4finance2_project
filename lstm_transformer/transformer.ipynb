{
 "cells": [
  {
   "metadata": {
    "ExecuteTime": {
     "end_time": "2024-12-06T00:53:27.967592Z",
     "start_time": "2024-12-06T00:53:25.793597Z"
    }
   },
   "cell_type": "code",
   "source": [
    "from dataclasses import dataclass\n",
    "import pandas as pd\n",
    "import numpy as np\n",
    "import torch\n",
    "import torch.nn as nn\n",
    "from torch.optim import Adam\n",
    "from torch.utils.data import Dataset, DataLoader, random_split\n",
    "from sklearn.preprocessing import LabelEncoder\n",
    "from utils import get_loader, EarlyStopper\n",
    "from typing import Optional\n",
    "device = torch.device('cuda' if torch.cuda.is_available() else 'cpu')"
   ],
   "id": "78f501570b9ac4a0",
   "outputs": [],
   "execution_count": 2
  },
  {
   "cell_type": "code",
   "id": "initial_id",
   "metadata": {
    "collapsed": true,
    "ExecuteTime": {
     "end_time": "2024-12-06T00:53:32.196603Z",
     "start_time": "2024-12-06T00:53:32.192104Z"
    }
   },
   "source": [
    "class TransformerModel(nn.Module):\n",
    "    def __init__(self, input_size, d_model, nhead, num_layers, output_size, dropout=0.3):\n",
    "        super(TransformerModel, self).__init__()\n",
    "        self.input_linear = nn.Linear(input_size, d_model)\n",
    "        self.positional_encoding = nn.Parameter(torch.randn(1, d_model))\n",
    "        encoder_layer = nn.TransformerEncoderLayer(\n",
    "            d_model=d_model,\n",
    "            nhead=nhead,\n",
    "            dim_feedforward=4 * d_model,\n",
    "            dropout=dropout,\n",
    "            batch_first=True,\n",
    "        )\n",
    "        self.transformer_encoder = nn.TransformerEncoder(encoder_layer, num_layers=num_layers)\n",
    "        self.norm = nn.LayerNorm(d_model)\n",
    "        self.output_linear = nn.Linear(d_model, output_size)\n",
    "        self.dropout = nn.Dropout(dropout)\n",
    "\n",
    "    def forward(self, x):\n",
    "        x = x.unsqueeze(1)\n",
    "        x = self.input_linear(x) + self.positional_encoding\n",
    "        x = self.norm(x)\n",
    "        x = self.dropout(x)\n",
    "        x = self.transformer_encoder(x)\n",
    "        x = x.flatten(start_dim=1)\n",
    "        x = self.output_linear(x)\n",
    "        return x"
   ],
   "outputs": [],
   "execution_count": 3
  },
  {
   "metadata": {
    "ExecuteTime": {
     "end_time": "2024-12-06T00:53:34.015992Z",
     "start_time": "2024-12-06T00:53:34.009184Z"
    }
   },
   "cell_type": "code",
   "source": [
    "def train_model(model, train_loader, valid_loader, optimizer, criterion, num_epochs, device, scheduler, stopper_args: Optional[dict]=None):\n",
    "    if stopper_args:\n",
    "        stopper = EarlyStopper(**stopper_args)\n",
    "    num_batches = len(train_loader)\n",
    "    num_items = len(train_loader.dataset)\n",
    "\n",
    "    for epoch in range(num_epochs):\n",
    "        correct_predictions_train = 0\n",
    "        total_loss_train = 0.0\n",
    "        model.train()\n",
    "        for X_batch, y_batch in train_loader:\n",
    "            X_batch, y_batch = X_batch.to(device), y_batch.to(device)\n",
    "            optimizer.zero_grad()\n",
    "            y_pred = model(X_batch)\n",
    "            loss = criterion(y_pred, y_batch)\n",
    "            loss.backward()\n",
    "            torch.nn.utils.clip_grad_norm_(model.parameters(), max_norm=1.0)\n",
    "            optimizer.step()\n",
    "            \n",
    "            _, predicted = torch.max(y_pred, 1)\n",
    "            correct_predictions_train += (predicted == y_batch).sum().item()\n",
    "            total_loss_train += loss.item()\n",
    "\n",
    "\n",
    "        train_loss = total_loss_train / num_batches\n",
    "        train_accuracy = correct_predictions_train / num_items\n",
    "        valid_loss, valid_accuracy, _ = test(model, valid_loader, criterion, device, verbose=0)\n",
    "        scheduler.step()\n",
    "        \n",
    "        if not (epoch + 1) % 10: \n",
    "            print(f\"Epoch {epoch+1}/{num_epochs}, Train Loss: {train_loss:.4f}, Train Accuracy: {train_accuracy:.4f}, Val Loss: {valid_loss:.4f}, Valid Accuracy: {valid_accuracy:.4f}\")\n",
    "        if stopper and stopper.early_stop(valid_loss): \n",
    "            print(\"Early stopping triggered. \")\n",
    "            break\n",
    "\n",
    "def test(model, test_loader, criterion, device, verbose):\n",
    "    model.eval()\n",
    "    num_batches = len(test_loader)\n",
    "    num_items = len(test_loader.dataset)\n",
    "    total_loss = 0.0\n",
    "    total_correct = 0\n",
    "    \n",
    "    all_preds = []\n",
    "    \n",
    "    with torch.no_grad():\n",
    "        for X_batch, y_batch in test_loader:\n",
    "            X_batch, y_batch = X_batch.to(device), y_batch.to(device)\n",
    "            y_pred = model(X_batch)\n",
    "            loss = criterion(y_pred, y_batch)\n",
    "            total_loss += loss.item()\n",
    "                \n",
    "            _, predicted = torch.max(y_pred, 1)\n",
    "            total_correct += (predicted == y_batch).sum().item()\n",
    "                \n",
    "            all_preds.extend(predicted.cpu().numpy())\n",
    "                \n",
    "    test_loss = total_loss / num_batches\n",
    "    test_accuracy = total_correct / num_items\n",
    "    if verbose: \n",
    "        print(f'Test Loss: {test_loss:.4f}, Test Accuracy: {test_accuracy:.4f}')\n",
    "    return test_loss, test_accuracy, all_preds"
   ],
   "id": "9725cf2268c56b57",
   "outputs": [],
   "execution_count": 4
  },
  {
   "metadata": {
    "ExecuteTime": {
     "end_time": "2024-12-06T01:28:27.274954Z",
     "start_time": "2024-12-06T01:17:46.503988Z"
    }
   },
   "cell_type": "code",
   "source": [
    "train_feature_path = \"./features/feature_aug_train.npy\"\n",
    "test_feature_path = \"./features/feature_aug_test.npy\"\n",
    "train_label_path = \"./features/label_train.csv\"\n",
    "test_label_path = \"./features/label_test.csv\"\n",
    "\n",
    "batch_size = 256\n",
    "valid_size = 0.2\n",
    "\n",
    "train_loader, valid_loader, test_loader, encoder = get_loader(train_feature_path, train_label_path, test_feature_path, test_label_path, batch_size, valid_size)\n",
    "\n",
    "input_size = train_loader.dataset[0][0].shape[0]\n",
    "d_model = 256\n",
    "nhead = 16\n",
    "num_layers = 4\n",
    "output_size = 4\n",
    "dropout = 0.1\n",
    "\n",
    "model = TransformerModel(input_size, d_model, nhead, num_layers, output_size, dropout).to(device)\n",
    "\n",
    "epochs = 500\n",
    "\n",
    "criterion = nn.CrossEntropyLoss()\n",
    "optimizer = torch.optim.AdamW(model.parameters(), lr=0.00005, weight_decay=1e-5)\n",
    "scheduler = torch.optim.lr_scheduler.OneCycleLR(optimizer, max_lr=0.0001, steps_per_epoch=len(train_loader), epochs=epochs)\n",
    "\n",
    "train_model(model, train_loader, valid_loader, optimizer, criterion, num_epochs=500, device=device, scheduler=scheduler, stopper_args={'threshold': 20, 'epsilon': 1e-4})\n",
    "\n",
    "test_loss, test_accuracy, pred = test(model, test_loader, criterion, device, verbose=1)\n",
    "pred_labels = encoder.inverse_transform(pred)"
   ],
   "id": "65ca29fc4e51dbc4",
   "outputs": [
    {
     "name": "stdout",
     "output_type": "stream",
     "text": [
      "Epoch 10/500, Train Loss: 0.6125, Train Accuracy: 0.7754, Val Loss: 0.5590, Valid Accuracy: 0.7950\n",
      "Epoch 20/500, Train Loss: 0.4068, Train Accuracy: 0.8502, Val Loss: 0.3844, Valid Accuracy: 0.8577\n",
      "Epoch 30/500, Train Loss: 0.3171, Train Accuracy: 0.8839, Val Loss: 0.3182, Valid Accuracy: 0.8813\n",
      "Epoch 40/500, Train Loss: 0.2617, Train Accuracy: 0.9030, Val Loss: 0.2561, Valid Accuracy: 0.9057\n",
      "Epoch 50/500, Train Loss: 0.2223, Train Accuracy: 0.9193, Val Loss: 0.2204, Valid Accuracy: 0.9213\n",
      "Epoch 60/500, Train Loss: 0.1826, Train Accuracy: 0.9322, Val Loss: 0.1968, Valid Accuracy: 0.9305\n",
      "Epoch 70/500, Train Loss: 0.1577, Train Accuracy: 0.9426, Val Loss: 0.1904, Valid Accuracy: 0.9349\n",
      "Epoch 80/500, Train Loss: 0.1348, Train Accuracy: 0.9496, Val Loss: 0.1606, Valid Accuracy: 0.9436\n",
      "Epoch 90/500, Train Loss: 0.1143, Train Accuracy: 0.9581, Val Loss: 0.1488, Valid Accuracy: 0.9488\n",
      "Epoch 100/500, Train Loss: 0.0998, Train Accuracy: 0.9635, Val Loss: 0.1385, Valid Accuracy: 0.9524\n",
      "Epoch 110/500, Train Loss: 0.0855, Train Accuracy: 0.9681, Val Loss: 0.1322, Valid Accuracy: 0.9584\n",
      "Epoch 120/500, Train Loss: 0.0752, Train Accuracy: 0.9726, Val Loss: 0.1241, Valid Accuracy: 0.9599\n",
      "Epoch 130/500, Train Loss: 0.0637, Train Accuracy: 0.9758, Val Loss: 0.1221, Valid Accuracy: 0.9615\n",
      "Epoch 140/500, Train Loss: 0.0575, Train Accuracy: 0.9783, Val Loss: 0.1195, Valid Accuracy: 0.9634\n",
      "Epoch 150/500, Train Loss: 0.0518, Train Accuracy: 0.9814, Val Loss: 0.1174, Valid Accuracy: 0.9645\n",
      "Epoch 160/500, Train Loss: 0.0437, Train Accuracy: 0.9844, Val Loss: 0.1134, Valid Accuracy: 0.9663\n",
      "Epoch 170/500, Train Loss: 0.0411, Train Accuracy: 0.9851, Val Loss: 0.1145, Valid Accuracy: 0.9674\n",
      "Epoch 180/500, Train Loss: 0.0346, Train Accuracy: 0.9881, Val Loss: 0.1136, Valid Accuracy: 0.9684\n",
      "Epoch 190/500, Train Loss: 0.0305, Train Accuracy: 0.9885, Val Loss: 0.1180, Valid Accuracy: 0.9685\n",
      "Epoch 200/500, Train Loss: 0.0283, Train Accuracy: 0.9901, Val Loss: 0.1214, Valid Accuracy: 0.9689\n",
      "Early stopping triggered. \n",
      "Test Loss: 1.1345, Test Accuracy: 0.8189\n"
     ]
    }
   ],
   "execution_count": 9
  },
  {
   "metadata": {
    "ExecuteTime": {
     "end_time": "2024-12-06T01:15:37.421957Z",
     "start_time": "2024-12-06T01:15:37.410417Z"
    }
   },
   "cell_type": "code",
   "source": "pd.DataFrame(pred_labels, columns=['Stance']).to_csv('./preds_trans.csv', index=False)",
   "id": "b5beeeedffe86fac",
   "outputs": [],
   "execution_count": 8
  }
 ],
 "metadata": {
  "kernelspec": {
   "display_name": "Python 3",
   "language": "python",
   "name": "python3"
  },
  "language_info": {
   "codemirror_mode": {
    "name": "ipython",
    "version": 2
   },
   "file_extension": ".py",
   "mimetype": "text/x-python",
   "name": "python",
   "nbconvert_exporter": "python",
   "pygments_lexer": "ipython2",
   "version": "2.7.6"
  }
 },
 "nbformat": 4,
 "nbformat_minor": 5
}
