{
 "cells": [
  {
   "metadata": {
    "ExecuteTime": {
     "end_time": "2024-12-09T06:07:43.331925Z",
     "start_time": "2024-12-09T06:07:43.329536Z"
    }
   },
   "cell_type": "code",
   "source": [
    "import sys\n",
    "import os\n",
    "sys.path.insert(0, os.path.abspath(\"..\"))"
   ],
   "id": "965351ce161b7050",
   "outputs": [],
   "execution_count": 2
  },
  {
   "metadata": {
    "ExecuteTime": {
     "end_time": "2024-12-09T06:07:46.540293Z",
     "start_time": "2024-12-09T06:07:44.368692Z"
    }
   },
   "cell_type": "code",
   "source": [
    "from dataclasses import dataclass\n",
    "import pandas as pd\n",
    "import numpy as np\n",
    "import torch\n",
    "import torch.nn as nn\n",
    "from torch.optim import Adam\n",
    "from torch.utils.data import Dataset, DataLoader, random_split\n",
    "from sklearn.preprocessing import LabelEncoder\n",
    "from utils import get_loader, EarlyStopper\n",
    "from typing import Optional\n",
    "device = torch.device('cuda' if torch.cuda.is_available() else 'cpu')"
   ],
   "id": "78f501570b9ac4a0",
   "outputs": [],
   "execution_count": 3
  },
  {
   "cell_type": "code",
   "id": "initial_id",
   "metadata": {
    "collapsed": true,
    "ExecuteTime": {
     "end_time": "2024-12-09T06:27:40.069340Z",
     "start_time": "2024-12-09T06:27:40.064383Z"
    }
   },
   "source": [
    "class TransformerModel(nn.Module):\n",
    "    def __init__(self, input_size, d_model, nhead, num_layers, output_size, dropout=0.3):\n",
    "        super(TransformerModel, self).__init__()\n",
    "        self.input_linear = nn.Linear(input_size, d_model)\n",
    "        self.positional_encoding = nn.Parameter(torch.randn(1, d_model))\n",
    "        encoder_layer = nn.TransformerEncoderLayer(\n",
    "            d_model=d_model,\n",
    "            nhead=nhead,\n",
    "            dim_feedforward=4 * d_model,\n",
    "            dropout=dropout,\n",
    "            batch_first=True,\n",
    "        )\n",
    "        self.transformer_encoder = nn.TransformerEncoder(encoder_layer, num_layers=num_layers)\n",
    "        self.norm = nn.LayerNorm(d_model)\n",
    "        self.output_linear = nn.Linear(d_model, output_size)\n",
    "        self.dropout = nn.Dropout(dropout)\n",
    "\n",
    "    def forward(self, x):\n",
    "        x = x.unsqueeze(1)\n",
    "        x = self.input_linear(x) + self.positional_encoding\n",
    "        x = self.norm(x)\n",
    "        x = self.dropout(x)\n",
    "        x = self.transformer_encoder(x)\n",
    "        x = x.flatten(start_dim=1)\n",
    "        x = self.output_linear(x)\n",
    "        return x"
   ],
   "outputs": [],
   "execution_count": 9
  },
  {
   "metadata": {
    "ExecuteTime": {
     "end_time": "2024-12-09T06:27:50.538570Z",
     "start_time": "2024-12-09T06:27:50.530718Z"
    }
   },
   "cell_type": "code",
   "source": [
    "def train_model(model, train_loader, valid_loader, optimizer, criterion, num_epochs, device, scheduler, stopper_args: Optional[dict]=None):\n",
    "    if stopper_args:\n",
    "        stopper = EarlyStopper(**stopper_args)\n",
    "    num_batches = len(train_loader)\n",
    "    num_items = len(train_loader.dataset)\n",
    "\n",
    "    for epoch in range(num_epochs):\n",
    "        correct_predictions_train = 0\n",
    "        total_loss_train = 0.0\n",
    "        model.train()\n",
    "        for X_batch, y_batch in train_loader:\n",
    "            X_batch, y_batch = X_batch.to(device), y_batch.to(device)\n",
    "            optimizer.zero_grad()\n",
    "            y_pred = model(X_batch)\n",
    "            loss = criterion(y_pred, y_batch)\n",
    "            loss.backward()\n",
    "            torch.nn.utils.clip_grad_norm_(model.parameters(), max_norm=1.0)\n",
    "            optimizer.step()\n",
    "            \n",
    "            _, predicted = torch.max(y_pred, 1)\n",
    "            correct_predictions_train += (predicted == y_batch).sum().item()\n",
    "            total_loss_train += loss.item()\n",
    "\n",
    "\n",
    "        train_loss = total_loss_train / num_batches\n",
    "        train_accuracy = correct_predictions_train / num_items\n",
    "        valid_loss, valid_accuracy, _ = test(model, valid_loader, criterion, device, verbose=0)\n",
    "        scheduler.step()\n",
    "        \n",
    "        if not (epoch + 1) % 10: \n",
    "            print(f\"Epoch {epoch+1}/{num_epochs}, Train Loss: {train_loss:.4f}, Train Accuracy: {train_accuracy:.4f}, Val Loss: {valid_loss:.4f}, Valid Accuracy: {valid_accuracy:.4f}\")\n",
    "        if stopper and stopper.early_stop(valid_loss): \n",
    "            print(\"Early stopping triggered. \")\n",
    "            break\n",
    "\n",
    "def test(model, test_loader, criterion, device, verbose):\n",
    "    model.eval()\n",
    "    num_batches = len(test_loader)\n",
    "    num_items = len(test_loader.dataset)\n",
    "    total_loss = 0.0\n",
    "    total_correct = 0\n",
    "    \n",
    "    all_preds = []\n",
    "    \n",
    "    with torch.no_grad():\n",
    "        for X_batch, y_batch in test_loader:\n",
    "            X_batch, y_batch = X_batch.to(device), y_batch.to(device)\n",
    "            y_pred = model(X_batch)\n",
    "            loss = criterion(y_pred, y_batch)\n",
    "            total_loss += loss.item()\n",
    "                \n",
    "            _, predicted = torch.max(y_pred, 1)\n",
    "            total_correct += (predicted == y_batch).sum().item()\n",
    "                \n",
    "            all_preds.extend(predicted.cpu().numpy())\n",
    "                \n",
    "    test_loss = total_loss / num_batches\n",
    "    test_accuracy = total_correct / num_items\n",
    "    if verbose: \n",
    "        print(f'Test Loss: {test_loss:.4f}, Test Accuracy: {test_accuracy:.4f}')\n",
    "    return test_loss, test_accuracy, all_preds"
   ],
   "id": "9725cf2268c56b57",
   "outputs": [],
   "execution_count": 10
  },
  {
   "metadata": {
    "ExecuteTime": {
     "end_time": "2024-12-09T06:51:06.455246Z",
     "start_time": "2024-12-09T06:38:30.627659Z"
    }
   },
   "cell_type": "code",
   "source": [
    "train_feature = \"../features/feature_aug_train.npy\"\n",
    "valid_feature = \"../features/feature_aug_validation.npy\"\n",
    "test_feature = \"../features/feature_aug_test.npy\"\n",
    "train_label = \"../features/label_train.csv\"\n",
    "valid_label = \"../features/label_validation.csv\"\n",
    "test_label = \"../features/label_test.csv\"\n",
    "\n",
    "batch_size = 256\n",
    "# valid_size = 0.2\n",
    "\n",
    "train_loader, valid_loader, test_loader, encoder = get_loader(train_feature, train_label, valid_feature, valid_label, test_feature, test_label, batch_size)\n",
    "\n",
    "input_size = train_loader.dataset[0][0].shape[0]\n",
    "d_model = 768\n",
    "nhead = 16\n",
    "num_layers = 4\n",
    "output_size = 4\n",
    "dropout = 0.1\n",
    "\n",
    "model = TransformerModel(input_size, d_model, nhead, num_layers, output_size, dropout).to(device)\n",
    "\n",
    "epochs = 500\n",
    "\n",
    "criterion = nn.CrossEntropyLoss()\n",
    "optimizer = torch.optim.AdamW(model.parameters(), lr=0.00005, weight_decay=1e-5)\n",
    "scheduler = torch.optim.lr_scheduler.OneCycleLR(optimizer, max_lr=0.0001, steps_per_epoch=len(train_loader), epochs=epochs)\n",
    "\n",
    "train_model(model, train_loader, valid_loader, optimizer, criterion, num_epochs=500, device=device, scheduler=scheduler, stopper_args={'threshold': 20, 'epsilon': 1e-4})\n",
    "\n",
    "test_loss, test_accuracy, pred = test(model, test_loader, criterion, device, verbose=1)\n",
    "pred_labels = encoder.inverse_transform(pred)"
   ],
   "id": "65ca29fc4e51dbc4",
   "outputs": [
    {
     "name": "stdout",
     "output_type": "stream",
     "text": [
      "Epoch 10/500, Train Loss: 0.5271, Train Accuracy: 0.8051, Val Loss: 0.4801, Valid Accuracy: 0.8270\n",
      "Epoch 20/500, Train Loss: 0.3657, Train Accuracy: 0.8642, Val Loss: 0.3632, Valid Accuracy: 0.8688\n",
      "Epoch 30/500, Train Loss: 0.2748, Train Accuracy: 0.8987, Val Loss: 0.2921, Valid Accuracy: 0.8971\n",
      "Epoch 40/500, Train Loss: 0.2090, Train Accuracy: 0.9234, Val Loss: 0.2457, Valid Accuracy: 0.9114\n",
      "Epoch 50/500, Train Loss: 0.1485, Train Accuracy: 0.9449, Val Loss: 0.2029, Valid Accuracy: 0.9280\n",
      "Epoch 60/500, Train Loss: 0.1080, Train Accuracy: 0.9599, Val Loss: 0.1604, Valid Accuracy: 0.9460\n",
      "Epoch 70/500, Train Loss: 0.0779, Train Accuracy: 0.9708, Val Loss: 0.1369, Valid Accuracy: 0.9537\n",
      "Epoch 80/500, Train Loss: 0.0587, Train Accuracy: 0.9785, Val Loss: 0.1255, Valid Accuracy: 0.9581\n",
      "Epoch 90/500, Train Loss: 0.0458, Train Accuracy: 0.9833, Val Loss: 0.1239, Valid Accuracy: 0.9631\n",
      "Epoch 100/500, Train Loss: 0.0341, Train Accuracy: 0.9875, Val Loss: 0.1213, Valid Accuracy: 0.9667\n",
      "Epoch 110/500, Train Loss: 0.0258, Train Accuracy: 0.9905, Val Loss: 0.1230, Valid Accuracy: 0.9675\n",
      "Epoch 120/500, Train Loss: 0.0200, Train Accuracy: 0.9930, Val Loss: 0.1185, Valid Accuracy: 0.9714\n",
      "Epoch 130/500, Train Loss: 0.0158, Train Accuracy: 0.9946, Val Loss: 0.1310, Valid Accuracy: 0.9696\n",
      "Early stopping triggered. \n",
      "Test Loss: 1.4311, Test Accuracy: 0.8240\n"
     ]
    }
   ],
   "execution_count": 13
  },
  {
   "metadata": {
    "ExecuteTime": {
     "end_time": "2024-12-09T06:51:12.013405Z",
     "start_time": "2024-12-09T06:51:12.002928Z"
    }
   },
   "cell_type": "code",
   "source": "pd.DataFrame(pred_labels, columns=['Stance']).to_csv('../output/preds_trans.csv', index=False)",
   "id": "b5beeeedffe86fac",
   "outputs": [],
   "execution_count": 14
  }
 ],
 "metadata": {
  "kernelspec": {
   "display_name": "Python 3",
   "language": "python",
   "name": "python3"
  },
  "language_info": {
   "codemirror_mode": {
    "name": "ipython",
    "version": 2
   },
   "file_extension": ".py",
   "mimetype": "text/x-python",
   "name": "python",
   "nbconvert_exporter": "python",
   "pygments_lexer": "ipython2",
   "version": "2.7.6"
  }
 },
 "nbformat": 4,
 "nbformat_minor": 5
}
