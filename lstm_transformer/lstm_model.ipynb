{
 "cells": [
  {
   "metadata": {
    "ExecuteTime": {
     "end_time": "2024-12-09T09:17:09.061800Z",
     "start_time": "2024-12-09T09:17:09.057319Z"
    }
   },
   "cell_type": "code",
   "source": [
    "import sys\n",
    "import os\n",
    "sys.path.insert(0, os.path.abspath(\"..\"))"
   ],
   "id": "a387b13ccbab5c8e",
   "outputs": [],
   "execution_count": 1
  },
  {
   "cell_type": "code",
   "id": "initial_id",
   "metadata": {
    "collapsed": true,
    "ExecuteTime": {
     "end_time": "2024-12-09T09:17:12.393773Z",
     "start_time": "2024-12-09T09:17:10.236326Z"
    }
   },
   "source": [
    "from dataclasses import dataclass\n",
    "import pandas as pd\n",
    "import numpy as np\n",
    "import torch\n",
    "import torch.nn as nn\n",
    "from torch.optim import Adam\n",
    "from torch.utils.data import Dataset, DataLoader, random_split\n",
    "from sklearn.preprocessing import LabelEncoder\n",
    "from utils import get_loader, EarlyStopper\n",
    "from typing import Optional\n",
    "device = torch.device('cuda' if torch.cuda.is_available() else 'cpu')"
   ],
   "outputs": [],
   "execution_count": 2
  },
  {
   "cell_type": "code",
   "id": "a6a85b1b720eb6f4",
   "metadata": {
    "ExecuteTime": {
     "end_time": "2024-12-09T09:17:14.161621Z",
     "start_time": "2024-12-09T09:17:14.156833Z"
    }
   },
   "source": [
    "class LSTMModel(nn.Module):\n",
    "    def __init__(self, input_size, hidden_sizes, output_size, dropout=0.1):\n",
    "        super(LSTMModel, self).__init__()\n",
    "        self.lstm1 = nn.LSTM(input_size, hidden_sizes[0], batch_first=True)\n",
    "        self.dropout1 = nn.Dropout(dropout)\n",
    "\n",
    "        self.lstm2 = nn.LSTM(hidden_sizes[0], hidden_sizes[1], batch_first=True)\n",
    "        self.dropout2 = nn.Dropout(dropout)\n",
    "\n",
    "        self.lstm3 = nn.LSTM(hidden_sizes[1], hidden_sizes[2], batch_first=True)\n",
    "        self.dropout3 = nn.Dropout(dropout)\n",
    "\n",
    "        self.fc = nn.Linear(hidden_sizes[2], output_size)\n",
    "\n",
    "    def forward(self, x):\n",
    "        x = x.unsqueeze(1)\n",
    "        x, _ = self.lstm1(x)\n",
    "        x = self.dropout1(x)\n",
    "\n",
    "        x, _ = self.lstm2(x)\n",
    "        x = self.dropout2(x)\n",
    "\n",
    "        x, _ = self.lstm3(x)\n",
    "        x = self.dropout3(x)\n",
    "        x = x.flatten(start_dim=1)\n",
    "        x = self.fc(x)\n",
    "        return x"
   ],
   "outputs": [],
   "execution_count": 3
  },
  {
   "metadata": {
    "ExecuteTime": {
     "end_time": "2024-12-09T09:17:15.777860Z",
     "start_time": "2024-12-09T09:17:15.771237Z"
    }
   },
   "cell_type": "code",
   "source": [
    "def train_model(model, train_loader, valid_loader, optimizer, criterion, num_epochs, device, scheduler, stopper_args: Optional[dict]=None):\n",
    "    if stopper_args:\n",
    "        stopper = EarlyStopper(**stopper_args)\n",
    "        \n",
    "    num_batches = len(train_loader)\n",
    "    num_items = len(train_loader.dataset)\n",
    "\n",
    "    for epoch in range(num_epochs):\n",
    "        correct_predictions_train = 0\n",
    "        total_loss_train = 0\n",
    "        model.train()\n",
    "        for X_batch, y_batch in train_loader:\n",
    "            X_batch, y_batch = X_batch.to(device), y_batch.to(device)\n",
    "            optimizer.zero_grad()\n",
    "            y_pred = model(X_batch)\n",
    "            loss = criterion(y_pred, y_batch)\n",
    "            loss.backward()\n",
    "            torch.nn.utils.clip_grad_norm_(model.parameters(), max_norm=1.0)\n",
    "            optimizer.step()\n",
    "\n",
    "            _, predicted = torch.max(y_pred, 1)\n",
    "            correct_predictions_train += (predicted == y_batch).sum().item()\n",
    "            total_loss_train += loss.item()\n",
    "        \n",
    "        train_loss = total_loss_train / num_batches\n",
    "        train_accuracy = correct_predictions_train / num_items\n",
    "        valid_loss, valid_accuracy, _ = test(model, valid_loader, criterion, device, verbose=0)\n",
    "        scheduler.step(valid_loss)\n",
    "\n",
    "        if not (epoch + 1) % 10:\n",
    "            print(f\"Epoch {epoch+1}/{num_epochs}, Train Loss: {train_loss:.4f}, Train Accuracy: {train_accuracy:.4f}, Val Loss: {valid_loss:.4f}, Valid Accuracy: {valid_accuracy:.4f}\")\n",
    "        if stopper and stopper.early_stop(valid_loss):\n",
    "            print(\"Early stopping triggered. \")\n",
    "            break\n",
    "\n",
    "def test(model, test_loader, criterion, device, verbose):\n",
    "    model.eval()\n",
    "    num_batches = len(test_loader)\n",
    "    num_items = len(test_loader.dataset)\n",
    "    total_loss = 0.0\n",
    "    total_correct = 0\n",
    "    \n",
    "    all_preds = []\n",
    "\n",
    "    with torch.no_grad():\n",
    "        for X_batch, y_batch in test_loader:\n",
    "            X_batch, y_batch = X_batch.to(device), y_batch.to(device)\n",
    "            y_pred = model(X_batch)\n",
    "            loss = criterion(y_pred, y_batch)\n",
    "            total_loss += loss.item()\n",
    "            \n",
    "            _, predicted = torch.max(y_pred, 1)\n",
    "            total_correct += (predicted == y_batch).sum().item()\n",
    "            \n",
    "            all_preds.extend(predicted.cpu().numpy())\n",
    "            \n",
    "    test_loss = total_loss / num_batches\n",
    "    test_accuracy = total_correct / num_items\n",
    "    if verbose:\n",
    "        print(f'Test Loss: {test_loss:.4f}, Test Accuracy: {test_accuracy:.4f}')\n",
    "    return test_loss, test_accuracy, all_preds"
   ],
   "id": "56962f29c08c14c2",
   "outputs": [],
   "execution_count": 4
  },
  {
   "metadata": {
    "ExecuteTime": {
     "end_time": "2024-12-09T09:23:24.798163Z",
     "start_time": "2024-12-09T09:17:21.737378Z"
    }
   },
   "cell_type": "code",
   "source": [
    "train_feature = \"../features/feature_aug_train.npy\"\n",
    "valid_feature = \"../features/feature_aug_validation.npy\"\n",
    "test_feature = \"../features/feature_aug_test.npy\"\n",
    "train_label = \"../features/label_train.csv\"\n",
    "valid_label = \"../features/label_validation.csv\"\n",
    "test_label = \"../features/label_test.csv\"\n",
    "\n",
    "batch_size = 256\n",
    "# valid_size = 0.2\n",
    "\n",
    "train_loader, valid_loader, test_loader, encoder = get_loader(train_feature, train_label, valid_feature, valid_label, test_feature, test_label, batch_size)\n",
    "\n",
    "n_features = train_loader.dataset[0][0].shape[0]\n",
    "hidden_sizes = [2048, 1024, 512]\n",
    "n_classes = 4\n",
    "dropout = 0.1\n",
    "\n",
    "model = LSTMModel(n_features, hidden_sizes, n_classes, dropout).to(device)\n",
    "\n",
    "optimizer = torch.optim.Adam(model.parameters(), lr=0.00005, weight_decay=1e-5)\n",
    "criterion = nn.CrossEntropyLoss()\n",
    "scheduler = torch.optim.lr_scheduler.ReduceLROnPlateau(optimizer, mode='min', factor=0.5, patience=5, verbose=True)\n",
    "\n",
    "epochs = 500\n",
    "\n",
    "train_model(model, train_loader, valid_loader, optimizer, criterion, epochs, device, scheduler, stopper_args={'threshold': 20, 'epsilon': 1e-4})\n",
    "\n",
    "test_loss, test_accuracy, pred = test(model, test_loader, criterion, device, verbose=1)\n",
    "pred_labels = encoder.inverse_transform(pred)\n"
   ],
   "id": "b895fa7c1ed89c6a",
   "outputs": [
    {
     "name": "stderr",
     "output_type": "stream",
     "text": [
      "C:\\Users\\wusha\\miniconda3\\envs\\ml_finance\\Lib\\site-packages\\torch\\optim\\lr_scheduler.py:62: UserWarning: The verbose parameter is deprecated. Please use get_last_lr() to access the learning rate.\n",
      "  warnings.warn(\n"
     ]
    },
    {
     "name": "stdout",
     "output_type": "stream",
     "text": [
      "Epoch 10/500, Train Loss: 0.1740, Train Accuracy: 0.9383, Val Loss: 0.2185, Valid Accuracy: 0.9233\n",
      "Epoch 20/500, Train Loss: 0.0732, Train Accuracy: 0.9733, Val Loss: 0.1574, Valid Accuracy: 0.9487\n",
      "Epoch 30/500, Train Loss: 0.0459, Train Accuracy: 0.9833, Val Loss: 0.1363, Valid Accuracy: 0.9588\n",
      "Epoch 40/500, Train Loss: 0.0161, Train Accuracy: 0.9942, Val Loss: 0.1105, Valid Accuracy: 0.9704\n",
      "Epoch 50/500, Train Loss: 0.0069, Train Accuracy: 0.9980, Val Loss: 0.1193, Valid Accuracy: 0.9708\n",
      "Epoch 60/500, Train Loss: 0.0045, Train Accuracy: 0.9988, Val Loss: 0.1145, Valid Accuracy: 0.9734\n",
      "Early stopping triggered. \n",
      "Test Loss: 1.4160, Test Accuracy: 0.8276\n"
     ]
    }
   ],
   "execution_count": 5
  },
  {
   "metadata": {
    "ExecuteTime": {
     "end_time": "2024-12-09T09:24:10.168451Z",
     "start_time": "2024-12-09T09:24:10.157375Z"
    }
   },
   "cell_type": "code",
   "source": [
    "print(pred_labels)\n",
    "pd.DataFrame(pred_labels, columns=['Stance']).to_csv('../output/preds_lstm.csv', index=False)"
   ],
   "id": "692b868bb22457f5",
   "outputs": [
    {
     "name": "stdout",
     "output_type": "stream",
     "text": [
      "['unrelated' 'discuss' 'unrelated' ... 'agree' 'agree' 'agree']\n"
     ]
    }
   ],
   "execution_count": 8
  }
 ],
 "metadata": {
  "kernelspec": {
   "display_name": "ml_finance",
   "language": "python",
   "name": "python3"
  },
  "language_info": {
   "codemirror_mode": {
    "name": "ipython",
    "version": 3
   },
   "file_extension": ".py",
   "mimetype": "text/x-python",
   "name": "python",
   "nbconvert_exporter": "python",
   "pygments_lexer": "ipython3",
   "version": "3.11.10"
  }
 },
 "nbformat": 4,
 "nbformat_minor": 5
}
