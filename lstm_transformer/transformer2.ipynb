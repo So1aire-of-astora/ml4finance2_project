{
 "cells": [
  {
   "cell_type": "code",
   "id": "initial_id",
   "metadata": {
    "collapsed": true,
    "ExecuteTime": {
     "end_time": "2024-12-06T22:28:38.176678Z",
     "start_time": "2024-12-06T22:28:38.172815Z"
    }
   },
   "source": [
    "from dataclasses import dataclass\n",
    "import pandas as pd\n",
    "import numpy as np\n",
    "import torch\n",
    "import torch.nn as nn\n",
    "from torch.optim import Adam\n",
    "from torch.utils.data import Dataset, DataLoader, random_split\n",
    "from sklearn.preprocessing import LabelEncoder\n",
    "from utils import get_loader, EarlyStopper\n",
    "from typing import Optional\n",
    "import torch.nn.functional as F\n",
    "from torch.utils.data import Subset\n",
    "device = torch.device('cuda' if torch.cuda.is_available() else 'cpu')"
   ],
   "outputs": [],
   "execution_count": 46
  },
  {
   "metadata": {
    "ExecuteTime": {
     "end_time": "2024-12-06T22:28:39.454284Z",
     "start_time": "2024-12-06T22:28:39.450694Z"
    }
   },
   "cell_type": "code",
   "source": [
    "class LearnedPositionalEncoding(nn.Module):\n",
    "    \"\"\"\n",
    "    Implements learned positional encoding using nn.Embedding.\n",
    "    \"\"\"\n",
    "    def __init__(self, d_model, max_len):\n",
    "        super(LearnedPositionalEncoding, self).__init__()\n",
    "        self.positional_encoding = nn.Embedding(max_len, d_model)\n",
    "\n",
    "    def forward(self, x):\n",
    "        seq_len = x.size(1)\n",
    "        positions = torch.arange(0, seq_len, dtype=torch.long, device=x.device).unsqueeze(0)  # [1, seq_len]\n",
    "        \n",
    "        return x + self.positional_encoding(positions)\n"
   ],
   "id": "c8269f76f3d77628",
   "outputs": [],
   "execution_count": 47
  },
  {
   "metadata": {
    "ExecuteTime": {
     "end_time": "2024-12-06T22:28:40.662549Z",
     "start_time": "2024-12-06T22:28:40.659094Z"
    }
   },
   "cell_type": "code",
   "source": [
    "class TransformerEncoder(nn.Module):\n",
    "    \"\"\"\n",
    "    Transformer Encoder with LayerDrop.\n",
    "    \"\"\"\n",
    "    def __init__(self, d_model, encoder_layer, num_layers, layerdrop=0.1):\n",
    "        super(TransformerEncoder, self).__init__()\n",
    "        self.layers = nn.ModuleList([encoder_layer for _ in range(num_layers)])\n",
    "        self.norm = nn.LayerNorm(d_model)\n",
    "        self.layerdrop = layerdrop\n",
    "\n",
    "    def forward(self, src, src_mask=None, src_key_padding_mask=None):\n",
    "        for layer in self.layers:\n",
    "            if not self.training or torch.rand(1).item() > self.layerdrop:\n",
    "                src = layer(src, src_mask=src_mask, src_key_padding_mask=src_key_padding_mask)\n",
    "                \n",
    "        return self.norm(src)"
   ],
   "id": "4a88f997b148aa31",
   "outputs": [],
   "execution_count": 48
  },
  {
   "metadata": {
    "ExecuteTime": {
     "end_time": "2024-12-06T22:58:15.662329Z",
     "start_time": "2024-12-06T22:58:15.656933Z"
    }
   },
   "cell_type": "code",
   "source": [
    "class TransformerModel(nn.Module):\n",
    "    def __init__(self, input_size, d_model, nhead, num_layers, output_size, dropout=0.3, max_len=5000, layerdrop=0.1):\n",
    "        super(TransformerModel, self).__init__()\n",
    "        self.input_linear = nn.Linear(input_size, d_model)\n",
    "        self.positional_encoding = LearnedPositionalEncoding(d_model=d_model, max_len=max_len)\n",
    "        encoder_layer = nn.TransformerEncoderLayer(\n",
    "            d_model=d_model,\n",
    "            nhead=nhead,\n",
    "            dim_feedforward=4 * d_model,\n",
    "            dropout=dropout,\n",
    "            batch_first=True,\n",
    "        )\n",
    "        self.transformer_encoder = TransformerEncoder(d_model, encoder_layer, num_layers=num_layers, layerdrop=layerdrop)\n",
    "        self.output_linear = nn.Linear(d_model, output_size)\n",
    "        self.dropout = nn.Dropout(dropout)\n",
    "\n",
    "    def forward(self, x):\n",
    "        x = x.unsqueeze(1)\n",
    "        padding_mask = (x.sum(dim=-1) == 0)\n",
    "        x = self.input_linear(x)\n",
    "        x = self.positional_encoding(x)\n",
    "        x = self.dropout(x)\n",
    "        x = self.transformer_encoder(x, src_key_padding_mask=padding_mask)\n",
    "        x = x.mean(dim=1)\n",
    "        x = self.output_linear(x)\n",
    "        \n",
    "        return x"
   ],
   "id": "3612f83e56a1bfbf",
   "outputs": [],
   "execution_count": 67
  },
  {
   "metadata": {
    "ExecuteTime": {
     "end_time": "2024-12-06T22:58:17.374217Z",
     "start_time": "2024-12-06T22:58:17.370418Z"
    }
   },
   "cell_type": "code",
   "source": [
    "def mixup_data(x, y, alpha=1.0):\n",
    "    if alpha > 0:\n",
    "        lam = np.random.beta(alpha, alpha)\n",
    "    else:\n",
    "        lam = 1\n",
    "    batch_size = x.size(0)\n",
    "    index = torch.randperm(batch_size).to(x.device)\n",
    "\n",
    "    mixed_x = lam * x + (1 - lam) * x[index, :]\n",
    "    y_a, y_b = y, y[index]\n",
    "    \n",
    "    return mixed_x, y_a, y_b, lam\n"
   ],
   "id": "340e3296bea6f947",
   "outputs": [],
   "execution_count": 68
  },
  {
   "metadata": {
    "ExecuteTime": {
     "end_time": "2024-12-06T22:58:18.698329Z",
     "start_time": "2024-12-06T22:58:18.688481Z"
    }
   },
   "cell_type": "code",
   "source": [
    "def train_model(model, train_loader, valid_loader, optimizer, criterion, num_epochs, device, scheduler, stopper_args: Optional[dict]=None, mixup_alpha=0.2):\n",
    "    if stopper_args:\n",
    "        stopper = EarlyStopper(**stopper_args)\n",
    "    num_batches = len(train_loader)\n",
    "    num_items = len(train_loader.dataset)\n",
    "\n",
    "    for epoch in range(num_epochs):\n",
    "        correct_predictions_train = 0\n",
    "        total_loss_train = 0.0\n",
    "        model.train()\n",
    "        for X_batch, y_batch in train_loader:\n",
    "            X_batch, y_batch = X_batch.to(device), y_batch.to(device)\n",
    "            X_batch, y_a, y_b, lam = mixup_data(X_batch, y_batch, alpha=mixup_alpha)\n",
    "            \n",
    "            optimizer.zero_grad()\n",
    "            y_pred = model(X_batch)\n",
    "            \n",
    "            loss = lam * criterion(y_pred, y_a) + (1 - lam) * criterion(y_pred, y_b)\n",
    "            loss.backward()\n",
    "            \n",
    "            torch.nn.utils.clip_grad_norm_(model.parameters(), max_norm=1.0)\n",
    "            optimizer.step()\n",
    "            \n",
    "            _, predicted = torch.max(y_pred, 1)\n",
    "            correct_predictions_train += (predicted == y_batch).sum().item()\n",
    "            total_loss_train += loss.item()\n",
    "\n",
    "\n",
    "        train_loss = total_loss_train / num_batches\n",
    "        train_accuracy = correct_predictions_train / num_items\n",
    "        valid_loss, valid_accuracy, miss_indices, _ = test(model, valid_loader, criterion, device, verbose=0)\n",
    "        \n",
    "        if miss_indices: \n",
    "            neg_loader = negative_loader(valid_loader.dataset, miss_indices, batch_size=32)\n",
    "            for x_batch, t_batch in neg_loader: \n",
    "                x_batch, t_batch = x_batch.to(device), t_batch.to(device)\n",
    "                \n",
    "                optimizer.zero_grad()\n",
    "                y_pred = model(x_batch)\n",
    "                loss = criterion(y_pred, t_batch)\n",
    "                loss.backward()\n",
    "                torch.nn.utils.clip_grad_norm_(model.parameters(), max_norm=1.0)\n",
    "                optimizer.step()\n",
    "                \n",
    "        scheduler.step()\n",
    "        \n",
    "        if not (epoch + 1) % 10: \n",
    "            print(f\"Epoch {epoch+1}/{num_epochs}, Train Loss: {train_loss:.4f}, Train Accuracy: {train_accuracy:.4f}, Val Loss: {valid_loss:.4f}, Valid Accuracy: {valid_accuracy:.4f}\")\n",
    "        if stopper and stopper.early_stop(valid_loss): \n",
    "            print(\"Early stopping triggered. \")\n",
    "            break\n",
    "\n",
    "def test(model, test_loader, criterion, device, verbose):\n",
    "    model.eval()\n",
    "    num_batches = len(test_loader)\n",
    "    num_items = len(test_loader.dataset)\n",
    "    total_loss = 0.0\n",
    "    total_correct = 0\n",
    "    miss_indices = []\n",
    "    \n",
    "    all_preds = []\n",
    "    all_targets = []\n",
    "    all_indices = []\n",
    "    \n",
    "    with torch.no_grad():\n",
    "        for batch_idx, (X_batch, y_batch) in enumerate(test_loader):\n",
    "            X_batch, y_batch = X_batch.to(device), y_batch.to(device)\n",
    "            y_pred = model(X_batch)\n",
    "            loss = criterion(y_pred, y_batch)\n",
    "            total_loss += loss.item()\n",
    "                \n",
    "            _, predicted = torch.max(y_pred, 1)\n",
    "            total_correct += (predicted == y_batch).sum().item()\n",
    "            \n",
    "            indices = torch.arange(batch_idx * test_loader.batch_size, batch_idx * test_loader.batch_size + y_batch.size(0))\n",
    "            misclassified = indices[predicted.cpu() != y_batch.cpu()]\n",
    "            miss_indices.extend(misclassified.tolist())\n",
    "            \n",
    "            all_preds.extend(predicted.cpu().numpy())\n",
    "            all_targets.extend(y_batch.cpu().tolist())\n",
    "            all_indices.extend(indices.tolist())\n",
    "                \n",
    "    test_loss = total_loss / num_batches\n",
    "    test_accuracy = total_correct / num_items\n",
    "    if verbose: \n",
    "        print(f'Test Loss: {test_loss:.4f}, Test Accuracy: {test_accuracy:.4f}')\n",
    "        \n",
    "    return test_loss, test_accuracy, miss_indices, all_preds\n",
    "\n",
    "def negative_loader(dataset, miss_indices, batch_size):\n",
    "    negative_data = Subset(dataset, miss_indices)\n",
    "    negative_loader = DataLoader(negative_data, batch_size=batch_size, shuffle=True)\n",
    "    \n",
    "    return negative_loader\n"
   ],
   "id": "fe8e83b69c6e1a45",
   "outputs": [],
   "execution_count": 69
  },
  {
   "metadata": {
    "ExecuteTime": {
     "end_time": "2024-12-06T22:58:22.935469Z",
     "start_time": "2024-12-06T22:58:22.930777Z"
    }
   },
   "cell_type": "code",
   "source": [
    "class FocalLoss(nn.Module):\n",
    "    \"\"\"\n",
    "    Focal Loss with Label Smoothing.\n",
    "    Args:\n",
    "        alpha: Weighting factor for classes.\n",
    "        gamma: Focusing parameter for Focal Loss.\n",
    "        smoothing: Label smoothing factor.\n",
    "    \"\"\"\n",
    "    def __init__(self, alpha=1.0, gamma=2.0, smoothing=0.1, weight=None):\n",
    "        super(FocalLoss, self).__init__()\n",
    "        self.alpha = alpha\n",
    "        self.gamma = gamma\n",
    "        self.smoothing = smoothing\n",
    "        self.weight = weight\n",
    "\n",
    "    def forward(self, inputs, targets):\n",
    "        # Apply label smoothing\n",
    "        num_classes = inputs.size(1)\n",
    "        smoothed_labels = torch.zeros_like(inputs).scatter_(1, targets.unsqueeze(1), 1)  # One-hot encoding\n",
    "        smoothed_labels = (1 - self.smoothing) * smoothed_labels + self.smoothing / num_classes\n",
    "\n",
    "        # Compute cross entropy\n",
    "        log_probs = F.log_softmax(inputs, dim=1)\n",
    "        ce_loss = -(smoothed_labels * log_probs).sum(dim=1)  # Smoothed cross-entropy loss\n",
    "\n",
    "        # Compute Focal Loss\n",
    "        pt = torch.exp(-ce_loss)  # Probability of the true class\n",
    "        focal_loss = self.alpha * (1 - pt) ** self.gamma * ce_loss\n",
    "\n",
    "        # Return weighted loss\n",
    "        if self.weight is not None:\n",
    "            focal_loss = focal_loss * self.weight[targets]\n",
    "\n",
    "        return focal_loss.mean()"
   ],
   "id": "97b198273e0e44a4",
   "outputs": [],
   "execution_count": 70
  },
  {
   "metadata": {
    "ExecuteTime": {
     "end_time": "2024-12-06T23:07:10.447986Z",
     "start_time": "2024-12-06T22:58:24.737884Z"
    }
   },
   "cell_type": "code",
   "source": [
    "train_feature_path = \"./features/feature_aug_train.npy\"\n",
    "test_feature_path = \"./features/feature_aug_test.npy\"\n",
    "train_label_path = \"./features/label_train.csv\"\n",
    "test_label_path = \"./features/label_test.csv\"\n",
    "\n",
    "batch_size = 256\n",
    "valid_size = 0.2\n",
    "\n",
    "train_loader, valid_loader, test_loader, encoder = get_loader(train_feature_path, train_label_path, test_feature_path, test_label_path, batch_size, valid_size)\n",
    "\n",
    "input_size = train_loader.dataset[0][0].shape[0]\n",
    "d_model = 256\n",
    "nhead = 8\n",
    "num_layers = 4\n",
    "output_size = 4\n",
    "dropout = 0.2\n",
    "max_len = 512\n",
    "layerdrop = 0.1\n",
    "\n",
    "model = TransformerModel(input_size, d_model, nhead, num_layers, output_size, dropout, max_len, layerdrop).to(device)\n",
    "\n",
    "epochs = 500\n",
    "\n",
    "class_weights = torch.tensor([13.35, 36.46, 5.69, 1.38]).to(device)\n",
    "criterion = FocalLoss(alpha=1.0, gamma=2.0, smoothing=0.2, weight=class_weights)\n",
    "# criterion = nn.CrossEntropyLoss(weight=class_weights, label_smoothing=0.2)\n",
    "optimizer = torch.optim.AdamW(model.parameters(), lr=1e-5, weight_decay=1e-4)\n",
    "scheduler = torch.optim.lr_scheduler.CosineAnnealingLR(optimizer, T_max=epochs)\n",
    "\n",
    "train_model(model, train_loader, valid_loader, optimizer, criterion, num_epochs=500, device=device, scheduler=scheduler, stopper_args={'threshold': 20, 'epsilon': 1e-4}, mixup_alpha=0.2)\n",
    "\n",
    "# test_loss, test_accuracy, pred, _ = test(model, test_loader, criterion, device, verbose=1)\n",
    "# pred_labels = encoder.inverse_transform(pred)"
   ],
   "id": "c5644e952f553901",
   "outputs": [
    {
     "name": "stdout",
     "output_type": "stream",
     "text": [
      "Epoch 10/500, Train Loss: 1.9650, Train Accuracy: 0.5542, Val Loss: 1.5038, Valid Accuracy: 0.7484\n",
      "Epoch 20/500, Train Loss: 1.6724, Train Accuracy: 0.6465, Val Loss: 1.1281, Valid Accuracy: 0.8427\n",
      "Epoch 30/500, Train Loss: 1.5067, Train Accuracy: 0.6690, Val Loss: 0.9702, Valid Accuracy: 0.8795\n",
      "Epoch 40/500, Train Loss: 1.2910, Train Accuracy: 0.6965, Val Loss: 0.8575, Valid Accuracy: 0.9167\n",
      "Epoch 50/500, Train Loss: 1.2902, Train Accuracy: 0.6989, Val Loss: 0.7874, Valid Accuracy: 0.9220\n",
      "Epoch 60/500, Train Loss: 1.1830, Train Accuracy: 0.7407, Val Loss: 0.7606, Valid Accuracy: 0.9263\n",
      "Epoch 70/500, Train Loss: 1.0932, Train Accuracy: 0.7446, Val Loss: 0.6903, Valid Accuracy: 0.9460\n",
      "Epoch 80/500, Train Loss: 1.1985, Train Accuracy: 0.7502, Val Loss: 0.6743, Valid Accuracy: 0.9420\n",
      "Epoch 90/500, Train Loss: 1.0202, Train Accuracy: 0.7526, Val Loss: 0.6123, Valid Accuracy: 0.9722\n",
      "Epoch 100/500, Train Loss: 1.0611, Train Accuracy: 0.7532, Val Loss: 0.6186, Valid Accuracy: 0.9566\n",
      "Epoch 110/500, Train Loss: 0.9990, Train Accuracy: 0.7347, Val Loss: 0.6199, Valid Accuracy: 0.9682\n",
      "Epoch 120/500, Train Loss: 1.0084, Train Accuracy: 0.7716, Val Loss: 0.6014, Valid Accuracy: 0.9624\n",
      "Epoch 130/500, Train Loss: 0.9717, Train Accuracy: 0.7650, Val Loss: 0.5945, Valid Accuracy: 0.9646\n",
      "Epoch 140/500, Train Loss: 0.8475, Train Accuracy: 0.7748, Val Loss: 0.5704, Valid Accuracy: 0.9746\n",
      "Epoch 150/500, Train Loss: 1.0251, Train Accuracy: 0.7901, Val Loss: 0.5722, Valid Accuracy: 0.9807\n",
      "Epoch 160/500, Train Loss: 0.9411, Train Accuracy: 0.7489, Val Loss: 0.5836, Valid Accuracy: 0.9746\n",
      "Epoch 170/500, Train Loss: 0.9769, Train Accuracy: 0.7571, Val Loss: 0.5589, Valid Accuracy: 0.9787\n",
      "Epoch 180/500, Train Loss: 0.9296, Train Accuracy: 0.7229, Val Loss: 0.5615, Valid Accuracy: 0.9824\n",
      "Epoch 190/500, Train Loss: 0.9628, Train Accuracy: 0.7777, Val Loss: 0.5527, Valid Accuracy: 0.9820\n",
      "Early stopping triggered. \n"
     ]
    }
   ],
   "execution_count": 71
  },
  {
   "metadata": {
    "ExecuteTime": {
     "end_time": "2024-12-06T23:07:17.413564Z",
     "start_time": "2024-12-06T23:07:16.267030Z"
    }
   },
   "cell_type": "code",
   "source": [
    "test_loss, test_accuracy, _, pred = test(model, test_loader, criterion, device, verbose=1)\n",
    "pred_labels = encoder.inverse_transform(pred)\n",
    "pd.DataFrame(pred_labels, columns=['Stance']).to_csv('./preds_trans.csv', index=False)"
   ],
   "id": "9cb52d383a0b469b",
   "outputs": [
    {
     "name": "stdout",
     "output_type": "stream",
     "text": [
      "Test Loss: 4.0587, Test Accuracy: 0.7915\n"
     ]
    }
   ],
   "execution_count": 72
  }
 ],
 "metadata": {
  "kernelspec": {
   "display_name": "Python 3",
   "language": "python",
   "name": "python3"
  },
  "language_info": {
   "codemirror_mode": {
    "name": "ipython",
    "version": 2
   },
   "file_extension": ".py",
   "mimetype": "text/x-python",
   "name": "python",
   "nbconvert_exporter": "python",
   "pygments_lexer": "ipython2",
   "version": "2.7.6"
  }
 },
 "nbformat": 4,
 "nbformat_minor": 5
}
